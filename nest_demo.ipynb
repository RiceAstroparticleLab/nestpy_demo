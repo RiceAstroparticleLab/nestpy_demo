{
 "cells": [
  {
   "cell_type": "markdown",
   "metadata": {},
   "source": [
    "# nestpy example\n",
    "\n",
    "Just play around....  nestpy has the same naming convention as the C++ nest.  See the nestpy repository for more info."
   ]
  },
  {
   "cell_type": "code",
   "execution_count": 5,
   "metadata": {},
   "outputs": [],
   "source": [
    "import nestpy"
   ]
  },
  {
   "cell_type": "code",
   "execution_count": 10,
   "metadata": {},
   "outputs": [
    {
     "data": {
      "text/plain": [
       "INTERACTION_TYPE.beta"
      ]
     },
     "execution_count": 10,
     "metadata": {},
     "output_type": "execute_result"
    }
   ],
   "source": [
    "nestpy.INTERACTION_TYPE(8)"
   ]
  },
  {
   "cell_type": "markdown",
   "metadata": {},
   "source": [
    "This does the heavy lifting: NESTcalc."
   ]
  },
  {
   "cell_type": "code",
   "execution_count": 12,
   "metadata": {},
   "outputs": [],
   "source": [
    "nc = nestpy.NESTcalc(nestpy.VDetector())"
   ]
  },
  {
   "cell_type": "markdown",
   "metadata": {},
   "source": [
    "Define the interaction type, which in this case is nuclear recoil."
   ]
  },
  {
   "cell_type": "code",
   "execution_count": 13,
   "metadata": {},
   "outputs": [],
   "source": [
    "interaction = nestpy.INTERACTION_TYPE(0)  # NR"
   ]
  },
  {
   "cell_type": "markdown",
   "metadata": {},
   "source": [
    "Pick a recoil energy."
   ]
  },
  {
   "cell_type": "code",
   "execution_count": 14,
   "metadata": {},
   "outputs": [
    {
     "name": "stdout",
     "output_type": "stream",
     "text": [
      "For an 10 keV INTERACTION_TYPE.NR\n"
     ]
    }
   ],
   "source": [
    "E = 10  # keV\n",
    "print('For an %s keV %s' % (E, interaction))"
   ]
  },
  {
   "cell_type": "markdown",
   "metadata": {},
   "source": [
    "Now you can get the yields of photons, electrons, etc, or even the 'quanta'.  Quanta just means that the statistical fluctuations are included, where these are notoriously tricky to simulate."
   ]
  },
  {
   "cell_type": "code",
   "execution_count": 15,
   "metadata": {},
   "outputs": [
    {
     "name": "stdout",
     "output_type": "stream",
     "text": [
      "The photon yield is: 81.88959268852247\n",
      "With statistical fluctuations 76\n"
     ]
    }
   ],
   "source": [
    "# Get particle yields\n",
    "y = nc.GetYields(interaction,\n",
    "\t\t E)\n",
    "\n",
    "print('The photon yield is:', y.PhotonYield)\n",
    "print('With statistical fluctuations',\n",
    "      nc.GetQuanta(y).photons)"
   ]
  }
 ],
 "metadata": {
  "kernelspec": {
   "display_name": "Python 3",
   "language": "python",
   "name": "python3"
  },
  "language_info": {
   "codemirror_mode": {
    "name": "ipython",
    "version": 3
   },
   "file_extension": ".py",
   "mimetype": "text/x-python",
   "name": "python",
   "nbconvert_exporter": "python",
   "pygments_lexer": "ipython3",
   "version": "3.8.1"
  }
 },
 "nbformat": 4,
 "nbformat_minor": 4
}
